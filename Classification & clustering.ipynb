{
 "cells": [
  {
   "cell_type": "code",
   "execution_count": 37,
   "metadata": {},
   "outputs": [],
   "source": [
    "import matplotlib.pyplot as plt\n",
    "import pandas as pd\n",
    "import numpy as np\n",
    "import sklearn\n",
    "from sklearn.model_selection import train_test_split\n",
    "from collections import Counter\n",
    "from sklearn.linear_model import LinearRegression\n",
    "import seaborn as sns\n",
    "from sklearn.preprocessing import StandardScaler\n",
    "from sklearn.neighbors import KNeighborsClassifier \n",
    "import sklearn.metrics as mc"
   ]
  },
  {
   "cell_type": "code",
   "execution_count": 11,
   "metadata": {},
   "outputs": [
    {
     "data": {
      "text/plain": [
       "date_time              14255\n",
       "is_holiday             14255\n",
       "air_pollution_index    14255\n",
       "humidity               14255\n",
       "wind_speed             14255\n",
       "wind_direction         14255\n",
       "visibility_in_miles    14255\n",
       "dew_point              14255\n",
       "temperature            14255\n",
       "rain_p_h               14255\n",
       "snow_p_h               14255\n",
       "clouds_all             14255\n",
       "weather_type           14255\n",
       "weather_description    14255\n",
       "dtype: int64"
      ]
     },
     "execution_count": 11,
     "metadata": {},
     "output_type": "execute_result"
    }
   ],
   "source": [
    "data=pd.read_csv(\"Test.csv\")\n",
    "data.isna().sum()\n"
   ]
  },
  {
   "cell_type": "code",
   "execution_count": 12,
   "metadata": {},
   "outputs": [
    {
     "name": "stdout",
     "output_type": "stream",
     "text": [
      "<class 'pandas.core.frame.DataFrame'>\n",
      "RangeIndex: 14454 entries, 0 to 14453\n",
      "Data columns (total 14 columns):\n",
      " #   Column               Non-Null Count  Dtype  \n",
      "---  ------               --------------  -----  \n",
      " 0   date_time            199 non-null    object \n",
      " 1   is_holiday           199 non-null    object \n",
      " 2   air_pollution_index  199 non-null    float64\n",
      " 3   humidity             199 non-null    float64\n",
      " 4   wind_speed           199 non-null    float64\n",
      " 5   wind_direction       199 non-null    float64\n",
      " 6   visibility_in_miles  199 non-null    float64\n",
      " 7   dew_point            199 non-null    float64\n",
      " 8   temperature          199 non-null    float64\n",
      " 9   rain_p_h             199 non-null    float64\n",
      " 10  snow_p_h             199 non-null    float64\n",
      " 11  clouds_all           199 non-null    float64\n",
      " 12  weather_type         199 non-null    object \n",
      " 13  weather_description  199 non-null    object \n",
      "dtypes: float64(10), object(4)\n",
      "memory usage: 1.5+ MB\n"
     ]
    }
   ],
   "source": [
    "data.info()"
   ]
  },
  {
   "cell_type": "code",
   "execution_count": 13,
   "metadata": {},
   "outputs": [
    {
     "data": {
      "text/html": [
       "<div>\n",
       "<style scoped>\n",
       "    .dataframe tbody tr th:only-of-type {\n",
       "        vertical-align: middle;\n",
       "    }\n",
       "\n",
       "    .dataframe tbody tr th {\n",
       "        vertical-align: top;\n",
       "    }\n",
       "\n",
       "    .dataframe thead th {\n",
       "        text-align: right;\n",
       "    }\n",
       "</style>\n",
       "<table border=\"1\" class=\"dataframe\">\n",
       "  <thead>\n",
       "    <tr style=\"text-align: right;\">\n",
       "      <th></th>\n",
       "      <th>date_time</th>\n",
       "      <th>is_holiday</th>\n",
       "      <th>air_pollution_index</th>\n",
       "      <th>humidity</th>\n",
       "      <th>wind_speed</th>\n",
       "      <th>wind_direction</th>\n",
       "      <th>visibility_in_miles</th>\n",
       "      <th>dew_point</th>\n",
       "      <th>temperature</th>\n",
       "      <th>rain_p_h</th>\n",
       "      <th>snow_p_h</th>\n",
       "      <th>clouds_all</th>\n",
       "      <th>weather_type</th>\n",
       "      <th>weather_description</th>\n",
       "    </tr>\n",
       "  </thead>\n",
       "  <tbody>\n",
       "    <tr>\n",
       "      <th>0</th>\n",
       "      <td>18-05-2017 00:00</td>\n",
       "      <td>None</td>\n",
       "      <td>73.0</td>\n",
       "      <td>63.0</td>\n",
       "      <td>1.0</td>\n",
       "      <td>27.0</td>\n",
       "      <td>4.0</td>\n",
       "      <td>4.0</td>\n",
       "      <td>285.15</td>\n",
       "      <td>0.0</td>\n",
       "      <td>0.0</td>\n",
       "      <td>90.0</td>\n",
       "      <td>Rain</td>\n",
       "      <td>moderate rain</td>\n",
       "    </tr>\n",
       "    <tr>\n",
       "      <th>1</th>\n",
       "      <td>18-05-2017 00:00</td>\n",
       "      <td>None</td>\n",
       "      <td>251.0</td>\n",
       "      <td>63.0</td>\n",
       "      <td>1.0</td>\n",
       "      <td>27.0</td>\n",
       "      <td>4.0</td>\n",
       "      <td>4.0</td>\n",
       "      <td>285.15</td>\n",
       "      <td>0.0</td>\n",
       "      <td>0.0</td>\n",
       "      <td>90.0</td>\n",
       "      <td>Mist</td>\n",
       "      <td>mist</td>\n",
       "    </tr>\n",
       "    <tr>\n",
       "      <th>2</th>\n",
       "      <td>18-05-2017 00:00</td>\n",
       "      <td>None</td>\n",
       "      <td>75.0</td>\n",
       "      <td>56.0</td>\n",
       "      <td>1.0</td>\n",
       "      <td>0.0</td>\n",
       "      <td>1.0</td>\n",
       "      <td>1.0</td>\n",
       "      <td>285.15</td>\n",
       "      <td>0.0</td>\n",
       "      <td>0.0</td>\n",
       "      <td>90.0</td>\n",
       "      <td>Drizzle</td>\n",
       "      <td>light intensity drizzle</td>\n",
       "    </tr>\n",
       "    <tr>\n",
       "      <th>3</th>\n",
       "      <td>18-05-2017 01:00</td>\n",
       "      <td>None</td>\n",
       "      <td>98.0</td>\n",
       "      <td>56.0</td>\n",
       "      <td>1.0</td>\n",
       "      <td>351.0</td>\n",
       "      <td>2.0</td>\n",
       "      <td>2.0</td>\n",
       "      <td>284.79</td>\n",
       "      <td>0.0</td>\n",
       "      <td>0.0</td>\n",
       "      <td>90.0</td>\n",
       "      <td>Rain</td>\n",
       "      <td>heavy intensity rain</td>\n",
       "    </tr>\n",
       "    <tr>\n",
       "      <th>4</th>\n",
       "      <td>18-05-2017 01:00</td>\n",
       "      <td>None</td>\n",
       "      <td>283.0</td>\n",
       "      <td>56.0</td>\n",
       "      <td>1.0</td>\n",
       "      <td>351.0</td>\n",
       "      <td>1.0</td>\n",
       "      <td>1.0</td>\n",
       "      <td>284.79</td>\n",
       "      <td>0.0</td>\n",
       "      <td>0.0</td>\n",
       "      <td>90.0</td>\n",
       "      <td>Mist</td>\n",
       "      <td>mist</td>\n",
       "    </tr>\n",
       "  </tbody>\n",
       "</table>\n",
       "</div>"
      ],
      "text/plain": [
       "          date_time is_holiday  air_pollution_index  humidity  wind_speed  \\\n",
       "0  18-05-2017 00:00       None                 73.0      63.0         1.0   \n",
       "1  18-05-2017 00:00       None                251.0      63.0         1.0   \n",
       "2  18-05-2017 00:00       None                 75.0      56.0         1.0   \n",
       "3  18-05-2017 01:00       None                 98.0      56.0         1.0   \n",
       "4  18-05-2017 01:00       None                283.0      56.0         1.0   \n",
       "\n",
       "   wind_direction  visibility_in_miles  dew_point  temperature  rain_p_h  \\\n",
       "0            27.0                  4.0        4.0       285.15       0.0   \n",
       "1            27.0                  4.0        4.0       285.15       0.0   \n",
       "2             0.0                  1.0        1.0       285.15       0.0   \n",
       "3           351.0                  2.0        2.0       284.79       0.0   \n",
       "4           351.0                  1.0        1.0       284.79       0.0   \n",
       "\n",
       "   snow_p_h  clouds_all weather_type      weather_description  \n",
       "0       0.0        90.0         Rain            moderate rain  \n",
       "1       0.0        90.0         Mist                     mist  \n",
       "2       0.0        90.0      Drizzle  light intensity drizzle  \n",
       "3       0.0        90.0         Rain     heavy intensity rain  \n",
       "4       0.0        90.0         Mist                     mist  "
      ]
     },
     "execution_count": 13,
     "metadata": {},
     "output_type": "execute_result"
    }
   ],
   "source": [
    "data.head()"
   ]
  },
  {
   "cell_type": "code",
   "execution_count": 14,
   "metadata": {},
   "outputs": [
    {
     "data": {
      "text/html": [
       "<div>\n",
       "<style scoped>\n",
       "    .dataframe tbody tr th:only-of-type {\n",
       "        vertical-align: middle;\n",
       "    }\n",
       "\n",
       "    .dataframe tbody tr th {\n",
       "        vertical-align: top;\n",
       "    }\n",
       "\n",
       "    .dataframe thead th {\n",
       "        text-align: right;\n",
       "    }\n",
       "</style>\n",
       "<table border=\"1\" class=\"dataframe\">\n",
       "  <thead>\n",
       "    <tr style=\"text-align: right;\">\n",
       "      <th></th>\n",
       "      <th>date_time</th>\n",
       "      <th>air_pollution_index</th>\n",
       "      <th>humidity</th>\n",
       "      <th>wind_speed</th>\n",
       "      <th>wind_direction</th>\n",
       "      <th>visibility_in_miles</th>\n",
       "      <th>dew_point</th>\n",
       "      <th>temperature</th>\n",
       "      <th>rain_p_h</th>\n",
       "      <th>snow_p_h</th>\n",
       "      <th>clouds_all</th>\n",
       "      <th>weather_type</th>\n",
       "      <th>weather_description</th>\n",
       "    </tr>\n",
       "  </thead>\n",
       "  <tbody>\n",
       "    <tr>\n",
       "      <th>0</th>\n",
       "      <td>18-05-2017 00:00</td>\n",
       "      <td>73.0</td>\n",
       "      <td>63.0</td>\n",
       "      <td>1.0</td>\n",
       "      <td>27.0</td>\n",
       "      <td>4.0</td>\n",
       "      <td>4.0</td>\n",
       "      <td>285.15</td>\n",
       "      <td>0.0</td>\n",
       "      <td>0.0</td>\n",
       "      <td>90.0</td>\n",
       "      <td>Rain</td>\n",
       "      <td>moderate rain</td>\n",
       "    </tr>\n",
       "    <tr>\n",
       "      <th>1</th>\n",
       "      <td>18-05-2017 00:00</td>\n",
       "      <td>251.0</td>\n",
       "      <td>63.0</td>\n",
       "      <td>1.0</td>\n",
       "      <td>27.0</td>\n",
       "      <td>4.0</td>\n",
       "      <td>4.0</td>\n",
       "      <td>285.15</td>\n",
       "      <td>0.0</td>\n",
       "      <td>0.0</td>\n",
       "      <td>90.0</td>\n",
       "      <td>Mist</td>\n",
       "      <td>mist</td>\n",
       "    </tr>\n",
       "    <tr>\n",
       "      <th>2</th>\n",
       "      <td>18-05-2017 00:00</td>\n",
       "      <td>75.0</td>\n",
       "      <td>56.0</td>\n",
       "      <td>1.0</td>\n",
       "      <td>0.0</td>\n",
       "      <td>1.0</td>\n",
       "      <td>1.0</td>\n",
       "      <td>285.15</td>\n",
       "      <td>0.0</td>\n",
       "      <td>0.0</td>\n",
       "      <td>90.0</td>\n",
       "      <td>Drizzle</td>\n",
       "      <td>light intensity drizzle</td>\n",
       "    </tr>\n",
       "    <tr>\n",
       "      <th>3</th>\n",
       "      <td>18-05-2017 01:00</td>\n",
       "      <td>98.0</td>\n",
       "      <td>56.0</td>\n",
       "      <td>1.0</td>\n",
       "      <td>351.0</td>\n",
       "      <td>2.0</td>\n",
       "      <td>2.0</td>\n",
       "      <td>284.79</td>\n",
       "      <td>0.0</td>\n",
       "      <td>0.0</td>\n",
       "      <td>90.0</td>\n",
       "      <td>Rain</td>\n",
       "      <td>heavy intensity rain</td>\n",
       "    </tr>\n",
       "    <tr>\n",
       "      <th>4</th>\n",
       "      <td>18-05-2017 01:00</td>\n",
       "      <td>283.0</td>\n",
       "      <td>56.0</td>\n",
       "      <td>1.0</td>\n",
       "      <td>351.0</td>\n",
       "      <td>1.0</td>\n",
       "      <td>1.0</td>\n",
       "      <td>284.79</td>\n",
       "      <td>0.0</td>\n",
       "      <td>0.0</td>\n",
       "      <td>90.0</td>\n",
       "      <td>Mist</td>\n",
       "      <td>mist</td>\n",
       "    </tr>\n",
       "    <tr>\n",
       "      <th>...</th>\n",
       "      <td>...</td>\n",
       "      <td>...</td>\n",
       "      <td>...</td>\n",
       "      <td>...</td>\n",
       "      <td>...</td>\n",
       "      <td>...</td>\n",
       "      <td>...</td>\n",
       "      <td>...</td>\n",
       "      <td>...</td>\n",
       "      <td>...</td>\n",
       "      <td>...</td>\n",
       "      <td>...</td>\n",
       "      <td>...</td>\n",
       "    </tr>\n",
       "    <tr>\n",
       "      <th>194</th>\n",
       "      <td>23-05-2017 01:00</td>\n",
       "      <td>202.0</td>\n",
       "      <td>61.0</td>\n",
       "      <td>2.0</td>\n",
       "      <td>163.0</td>\n",
       "      <td>2.0</td>\n",
       "      <td>2.0</td>\n",
       "      <td>283.60</td>\n",
       "      <td>0.0</td>\n",
       "      <td>0.0</td>\n",
       "      <td>1.0</td>\n",
       "      <td>Rain</td>\n",
       "      <td>light rain</td>\n",
       "    </tr>\n",
       "    <tr>\n",
       "      <th>195</th>\n",
       "      <td>23-05-2017 02:00</td>\n",
       "      <td>65.0</td>\n",
       "      <td>61.0</td>\n",
       "      <td>2.0</td>\n",
       "      <td>163.0</td>\n",
       "      <td>7.0</td>\n",
       "      <td>7.0</td>\n",
       "      <td>283.16</td>\n",
       "      <td>0.0</td>\n",
       "      <td>0.0</td>\n",
       "      <td>40.0</td>\n",
       "      <td>Rain</td>\n",
       "      <td>moderate rain</td>\n",
       "    </tr>\n",
       "    <tr>\n",
       "      <th>196</th>\n",
       "      <td>23-05-2017 02:00</td>\n",
       "      <td>293.0</td>\n",
       "      <td>60.0</td>\n",
       "      <td>1.0</td>\n",
       "      <td>164.0</td>\n",
       "      <td>1.0</td>\n",
       "      <td>1.0</td>\n",
       "      <td>283.16</td>\n",
       "      <td>0.0</td>\n",
       "      <td>0.0</td>\n",
       "      <td>40.0</td>\n",
       "      <td>Drizzle</td>\n",
       "      <td>drizzle</td>\n",
       "    </tr>\n",
       "    <tr>\n",
       "      <th>197</th>\n",
       "      <td>23-05-2017 03:00</td>\n",
       "      <td>160.0</td>\n",
       "      <td>60.0</td>\n",
       "      <td>1.0</td>\n",
       "      <td>164.0</td>\n",
       "      <td>6.0</td>\n",
       "      <td>6.0</td>\n",
       "      <td>282.78</td>\n",
       "      <td>0.0</td>\n",
       "      <td>0.0</td>\n",
       "      <td>40.0</td>\n",
       "      <td>Rain</td>\n",
       "      <td>moderate rain</td>\n",
       "    </tr>\n",
       "    <tr>\n",
       "      <th>198</th>\n",
       "      <td>23-05-2017 04:00</td>\n",
       "      <td>198.0</td>\n",
       "      <td>60.0</td>\n",
       "      <td>1.0</td>\n",
       "      <td>164.0</td>\n",
       "      <td>4.0</td>\n",
       "      <td>4.0</td>\n",
       "      <td>282.91</td>\n",
       "      <td>0.0</td>\n",
       "      <td>0.0</td>\n",
       "      <td>75.0</td>\n",
       "      <td>Drizzle</td>\n",
       "      <td>light intensity drizzle</td>\n",
       "    </tr>\n",
       "  </tbody>\n",
       "</table>\n",
       "<p>199 rows × 13 columns</p>\n",
       "</div>"
      ],
      "text/plain": [
       "            date_time  air_pollution_index  humidity  wind_speed  \\\n",
       "0    18-05-2017 00:00                 73.0      63.0         1.0   \n",
       "1    18-05-2017 00:00                251.0      63.0         1.0   \n",
       "2    18-05-2017 00:00                 75.0      56.0         1.0   \n",
       "3    18-05-2017 01:00                 98.0      56.0         1.0   \n",
       "4    18-05-2017 01:00                283.0      56.0         1.0   \n",
       "..                ...                  ...       ...         ...   \n",
       "194  23-05-2017 01:00                202.0      61.0         2.0   \n",
       "195  23-05-2017 02:00                 65.0      61.0         2.0   \n",
       "196  23-05-2017 02:00                293.0      60.0         1.0   \n",
       "197  23-05-2017 03:00                160.0      60.0         1.0   \n",
       "198  23-05-2017 04:00                198.0      60.0         1.0   \n",
       "\n",
       "     wind_direction  visibility_in_miles  dew_point  temperature  rain_p_h  \\\n",
       "0              27.0                  4.0        4.0       285.15       0.0   \n",
       "1              27.0                  4.0        4.0       285.15       0.0   \n",
       "2               0.0                  1.0        1.0       285.15       0.0   \n",
       "3             351.0                  2.0        2.0       284.79       0.0   \n",
       "4             351.0                  1.0        1.0       284.79       0.0   \n",
       "..              ...                  ...        ...          ...       ...   \n",
       "194           163.0                  2.0        2.0       283.60       0.0   \n",
       "195           163.0                  7.0        7.0       283.16       0.0   \n",
       "196           164.0                  1.0        1.0       283.16       0.0   \n",
       "197           164.0                  6.0        6.0       282.78       0.0   \n",
       "198           164.0                  4.0        4.0       282.91       0.0   \n",
       "\n",
       "     snow_p_h  clouds_all weather_type      weather_description  \n",
       "0         0.0        90.0         Rain            moderate rain  \n",
       "1         0.0        90.0         Mist                     mist  \n",
       "2         0.0        90.0      Drizzle  light intensity drizzle  \n",
       "3         0.0        90.0         Rain     heavy intensity rain  \n",
       "4         0.0        90.0         Mist                     mist  \n",
       "..        ...         ...          ...                      ...  \n",
       "194       0.0         1.0         Rain               light rain  \n",
       "195       0.0        40.0         Rain            moderate rain  \n",
       "196       0.0        40.0      Drizzle                  drizzle  \n",
       "197       0.0        40.0         Rain            moderate rain  \n",
       "198       0.0        75.0      Drizzle  light intensity drizzle  \n",
       "\n",
       "[199 rows x 13 columns]"
      ]
     },
     "execution_count": 14,
     "metadata": {},
     "output_type": "execute_result"
    }
   ],
   "source": [
    "data.dropna(inplace=True)\n",
    "data.drop('is_holiday',\n",
    "  axis='columns', inplace=True)\n",
    "data.isna().sum()\n",
    "data"
   ]
  },
  {
   "cell_type": "code",
   "execution_count": 15,
   "metadata": {},
   "outputs": [
    {
     "data": {
      "text/plain": [
       "0         Rain\n",
       "1         Mist\n",
       "2      Drizzle\n",
       "3         Rain\n",
       "4         Mist\n",
       "        ...   \n",
       "194       Rain\n",
       "195       Rain\n",
       "196    Drizzle\n",
       "197       Rain\n",
       "198    Drizzle\n",
       "Name: weather_type, Length: 199, dtype: object"
      ]
     },
     "execution_count": 15,
     "metadata": {},
     "output_type": "execute_result"
    }
   ],
   "source": [
    "data= data[data['weather_type'].notna()]\n",
    "data.weather_type"
   ]
  },
  {
   "cell_type": "markdown",
   "metadata": {},
   "source": [
    "# Classification"
   ]
  },
  {
   "cell_type": "code",
   "execution_count": 16,
   "metadata": {},
   "outputs": [
    {
     "data": {
      "text/plain": [
       "['Rain', 'Mist', 'Drizzle', 'Clouds', 'Clear', 'Haze']"
      ]
     },
     "execution_count": 16,
     "metadata": {},
     "output_type": "execute_result"
    }
   ],
   "source": [
    "Types_of_Weather=data.weather_type.unique().tolist()\n",
    "Types_of_Weather"
   ]
  },
  {
   "cell_type": "code",
   "execution_count": 17,
   "metadata": {},
   "outputs": [
    {
     "data": {
      "text/plain": [
       "[52, 47, 41, 40, 18, 1]"
      ]
     },
     "execution_count": 17,
     "metadata": {},
     "output_type": "execute_result"
    }
   ],
   "source": [
    "values=data.weather_type.value_counts().tolist()\n",
    "values"
   ]
  },
  {
   "cell_type": "code",
   "execution_count": 18,
   "metadata": {},
   "outputs": [
    {
     "data": {
      "image/png": "[encoded data removed]",
      "text/plain": [
       "<Figure size 432x288 with 1 Axes>"
      ]
     },
     "metadata": {},
     "output_type": "display_data"
    }
   ],
   "source": [
    "plt.pie(values,labels=Types_of_Weather)\n",
    "plt.show()"
   ]
  },
  {
   "cell_type": "code",
   "execution_count": 26,
   "metadata": {},
   "outputs": [
    {
     "data": {
      "text/plain": [
       "0         Rain\n",
       "1         Mist\n",
       "2      Drizzle\n",
       "3         Rain\n",
       "4         Mist\n",
       "        ...   \n",
       "194       Rain\n",
       "195       Rain\n",
       "196    Drizzle\n",
       "197       Rain\n",
       "198    Drizzle\n",
       "Name: weather_type, Length: 199, dtype: object"
      ]
     },
     "execution_count": 26,
     "metadata": {},
     "output_type": "execute_result"
    }
   ],
   "source": [
    "x=data.iloc[:,1:-2]\n",
    "y=data.iloc[:,-2]\n",
    "y"
   ]
  },
  {
   "cell_type": "code",
   "execution_count": 29,
   "metadata": {},
   "outputs": [],
   "source": [
    "x_train,x_test,y_train,y_test=train_test_split(x,y,test_size=.2)\n"
   ]
  },
  {
   "cell_type": "code",
   "execution_count": 30,
   "metadata": {},
   "outputs": [],
   "source": [
    "sc=StandardScaler()\n",
    "x_train_scale=sc.fit_transform(x_train)\n",
    "x_test_scale=sc.transform(x_test)"
   ]
  },
  {
   "cell_type": "code",
   "execution_count": 31,
   "metadata": {},
   "outputs": [
    {
     "data": {
      "text/plain": [
       "array([[-0.6445449 , -1.65093286,  1.52014624, ...,  0.        ,\n",
       "         0.        ,  0.47060884],\n",
       "       [-0.1673943 , -0.77683496, -0.84949348, ...,  0.        ,\n",
       "         0.        ,  0.47060884],\n",
       "       [-1.15660895, -1.51645626,  0.33532638, ...,  0.        ,\n",
       "         0.        , -2.66478935],\n",
       "       ...,\n",
       "       [ 1.34552224,  0.50069275, -0.84949348, ...,  0.        ,\n",
       "         0.        ,  0.47060884],\n",
       "       [ 0.49596141,  1.57650556, -0.25708355, ...,  0.        ,\n",
       "         0.        ,  0.47060884],\n",
       "       [-1.43591662, -0.03721365, -0.25708355, ...,  0.        ,\n",
       "         0.        ,  0.47060884]])"
      ]
     },
     "execution_count": 31,
     "metadata": {},
     "output_type": "execute_result"
    }
   ],
   "source": [
    "x_train_scale"
   ]
  },
  {
   "cell_type": "code",
   "execution_count": 33,
   "metadata": {},
   "outputs": [],
   "source": [
    "knC=KNeighborsClassifier(n_neighbors=3)"
   ]
  },
  {
   "cell_type": "code",
   "execution_count": 34,
   "metadata": {},
   "outputs": [
    {
     "data": {
      "text/plain": [
       "KNeighborsClassifier(n_neighbors=3)"
      ]
     },
     "execution_count": 34,
     "metadata": {},
     "output_type": "execute_result"
    }
   ],
   "source": [
    "knC.fit(x_train_scale,y_train)"
   ]
  },
  {
   "cell_type": "code",
   "execution_count": 36,
   "metadata": {},
   "outputs": [
    {
     "data": {
      "text/plain": [
       "array(['Mist', 'Drizzle', 'Clouds', 'Mist', 'Clear', 'Clouds', 'Drizzle',\n",
       "       'Clouds', 'Clouds', 'Drizzle', 'Drizzle', 'Mist', 'Rain', 'Clouds',\n",
       "       'Clear', 'Drizzle', 'Clouds', 'Rain', 'Rain', 'Mist', 'Mist',\n",
       "       'Clouds', 'Mist', 'Drizzle', 'Clouds', 'Drizzle', 'Mist', 'Clear',\n",
       "       'Clear', 'Clouds', 'Clouds', 'Mist', 'Clouds', 'Mist', 'Drizzle',\n",
       "       'Rain', 'Drizzle', 'Drizzle', 'Clear', 'Haze'], dtype=object)"
      ]
     },
     "execution_count": 36,
     "metadata": {},
     "output_type": "execute_result"
    }
   ],
   "source": [
    "y_predict=knC.predict(x_test_scale)\n",
    "y_predict"
   ]
  },
  {
   "cell_type": "code",
   "execution_count": 38,
   "metadata": {},
   "outputs": [
    {
     "data": {
      "text/plain": [
       "0.325"
      ]
     },
     "execution_count": 38,
     "metadata": {},
     "output_type": "execute_result"
    }
   ],
   "source": [
    "mc.accuracy_score(y_test,y_predict)"
   ]
  },
  {
   "cell_type": "markdown",
   "metadata": {},
   "source": [
    "# Clustering"
   ]
  },
  {
   "cell_type": "code",
   "execution_count": null,
   "metadata": {},
   "outputs": [],
   "source": [
    "from sklearn.cluster import KMeans"
   ]
  },
  {
   "cell_type": "code",
   "execution_count": null,
   "metadata": {},
   "outputs": [
    {
     "data": {
      "text/plain": [
       "Index(['date_time', 'air_pollution_index', 'humidity', 'wind_speed',\n",
       "       'wind_direction', 'visibility_in_miles', 'dew_point', 'temperature',\n",
       "       'rain_p_h', 'snow_p_h', 'clouds_all', 'weather_type',\n",
       "       'weather_description', 'culster_labels'],\n",
       "      dtype='object')"
      ]
     },
     "execution_count": 55,
     "metadata": {},
     "output_type": "execute_result"
    }
   ],
   "source": [
    "data.columns"
   ]
  },
  {
   "cell_type": "code",
   "execution_count": null,
   "metadata": {},
   "outputs": [
    {
     "data": {
      "image/png": "[encoded data removed]",
      "text/plain": [
       "<Figure size 432x288 with 1 Axes>"
      ]
     },
     "metadata": {
      "needs_background": "light"
     },
     "output_type": "display_data"
    }
   ],
   "source": [
    "sns.violinplot(data=data,x='weather_type',y='air_pollution_index',color=sns.color_palette()[0])\n",
    "plt.xlabel(\"weather type\")\n",
    "plt.ylabel(\"air pollution index\")\n",
    "plt.show()"
   ]
  },
  {
   "cell_type": "code",
   "execution_count": null,
   "metadata": {},
   "outputs": [
    {
     "data": {
      "text/html": [
       "<div>\n",
       "<style scoped>\n",
       "    .dataframe tbody tr th:only-of-type {\n",
       "        vertical-align: middle;\n",
       "    }\n",
       "\n",
       "    .dataframe tbody tr th {\n",
       "        vertical-align: top;\n",
       "    }\n",
       "\n",
       "    .dataframe thead th {\n",
       "        text-align: right;\n",
       "    }\n",
       "</style>\n",
       "<table border=\"1\" class=\"dataframe\">\n",
       "  <thead>\n",
       "    <tr style=\"text-align: right;\">\n",
       "      <th></th>\n",
       "      <th>humidity</th>\n",
       "      <th>air_pollution_index</th>\n",
       "    </tr>\n",
       "  </thead>\n",
       "  <tbody>\n",
       "    <tr>\n",
       "      <th>0</th>\n",
       "      <td>63.0</td>\n",
       "      <td>73.0</td>\n",
       "    </tr>\n",
       "    <tr>\n",
       "      <th>1</th>\n",
       "      <td>63.0</td>\n",
       "      <td>251.0</td>\n",
       "    </tr>\n",
       "    <tr>\n",
       "      <th>2</th>\n",
       "      <td>56.0</td>\n",
       "      <td>75.0</td>\n",
       "    </tr>\n",
       "    <tr>\n",
       "      <th>3</th>\n",
       "      <td>56.0</td>\n",
       "      <td>98.0</td>\n",
       "    </tr>\n",
       "    <tr>\n",
       "      <th>4</th>\n",
       "      <td>56.0</td>\n",
       "      <td>283.0</td>\n",
       "    </tr>\n",
       "    <tr>\n",
       "      <th>...</th>\n",
       "      <td>...</td>\n",
       "      <td>...</td>\n",
       "    </tr>\n",
       "    <tr>\n",
       "      <th>194</th>\n",
       "      <td>61.0</td>\n",
       "      <td>202.0</td>\n",
       "    </tr>\n",
       "    <tr>\n",
       "      <th>195</th>\n",
       "      <td>61.0</td>\n",
       "      <td>65.0</td>\n",
       "    </tr>\n",
       "    <tr>\n",
       "      <th>196</th>\n",
       "      <td>60.0</td>\n",
       "      <td>293.0</td>\n",
       "    </tr>\n",
       "    <tr>\n",
       "      <th>197</th>\n",
       "      <td>60.0</td>\n",
       "      <td>160.0</td>\n",
       "    </tr>\n",
       "    <tr>\n",
       "      <th>198</th>\n",
       "      <td>60.0</td>\n",
       "      <td>198.0</td>\n",
       "    </tr>\n",
       "  </tbody>\n",
       "</table>\n",
       "<p>199 rows × 2 columns</p>\n",
       "</div>"
      ],
      "text/plain": [
       "     humidity  air_pollution_index\n",
       "0        63.0                 73.0\n",
       "1        63.0                251.0\n",
       "2        56.0                 75.0\n",
       "3        56.0                 98.0\n",
       "4        56.0                283.0\n",
       "..        ...                  ...\n",
       "194      61.0                202.0\n",
       "195      61.0                 65.0\n",
       "196      60.0                293.0\n",
       "197      60.0                160.0\n",
       "198      60.0                198.0\n",
       "\n",
       "[199 rows x 2 columns]"
      ]
     },
     "execution_count": 40,
     "metadata": {},
     "output_type": "execute_result"
    }
   ],
   "source": [
    "x=data[['humidity', 'air_pollution_index']]\n",
    "x"
   ]
  },
  {
   "cell_type": "code",
   "execution_count": null,
   "metadata": {},
   "outputs": [],
   "source": [
    "km=KMeans(n_clusters=3)"
   ]
  },
  {
   "cell_type": "code",
   "execution_count": null,
   "metadata": {},
   "outputs": [
    {
     "data": {
      "text/plain": [
       "array([1, 2, 1, 1, 2, 0, 1, 0, 0, 1, 2, 2, 0, 1, 2, 1, 2, 1, 1, 0, 2, 2,\n",
       "       1, 0, 0, 1, 2, 0, 0, 0, 1, 0, 0, 0, 2, 2, 0, 1, 1, 0, 0, 2, 2, 1,\n",
       "       2, 1, 2, 0, 1, 2, 0, 0, 0, 2, 1, 1, 0, 2, 1, 2, 1, 2, 2, 1, 2, 0,\n",
       "       2, 0, 1, 0, 1, 0, 1, 1, 0, 2, 0, 0, 0, 0, 2, 2, 0, 0, 2, 2, 1, 2,\n",
       "       0, 1, 2, 2, 2, 2, 2, 2, 2, 0, 0, 2, 2, 2, 1, 2, 2, 0, 0, 1, 0, 1,\n",
       "       1, 0, 1, 1, 2, 1, 2, 1, 1, 2, 0, 0, 2, 1, 0, 1, 2, 2, 0, 0, 0, 0,\n",
       "       0, 2, 0, 0, 0, 1, 2, 0, 1, 2, 2, 0, 0, 0, 2, 0, 2, 0, 1, 1, 1, 1,\n",
       "       2, 1, 2, 1, 1, 0, 2, 2, 0, 0, 1, 1, 2, 1, 1, 1, 2, 1, 0, 0, 2, 0,\n",
       "       2, 1, 2, 0, 2, 1, 2, 0, 1, 0, 2, 1, 1, 2, 2, 0, 0, 0, 2, 1, 2, 0,\n",
       "       0])"
      ]
     },
     "execution_count": 43,
     "metadata": {},
     "output_type": "execute_result"
    }
   ],
   "source": [
    "cluster_labels=km.fit_predict(x)\n",
    "cluster_labels"
   ]
  },
  {
   "cell_type": "code",
   "execution_count": null,
   "metadata": {},
   "outputs": [
    {
     "data": {
      "text/html": [
       "<div>\n",
       "<style scoped>\n",
       "    .dataframe tbody tr th:only-of-type {\n",
       "        vertical-align: middle;\n",
       "    }\n",
       "\n",
       "    .dataframe tbody tr th {\n",
       "        vertical-align: top;\n",
       "    }\n",
       "\n",
       "    .dataframe thead th {\n",
       "        text-align: right;\n",
       "    }\n",
       "</style>\n",
       "<table border=\"1\" class=\"dataframe\">\n",
       "  <thead>\n",
       "    <tr style=\"text-align: right;\">\n",
       "      <th></th>\n",
       "      <th>date_time</th>\n",
       "      <th>air_pollution_index</th>\n",
       "      <th>humidity</th>\n",
       "      <th>wind_speed</th>\n",
       "      <th>wind_direction</th>\n",
       "      <th>visibility_in_miles</th>\n",
       "      <th>dew_point</th>\n",
       "      <th>temperature</th>\n",
       "      <th>rain_p_h</th>\n",
       "      <th>snow_p_h</th>\n",
       "      <th>clouds_all</th>\n",
       "      <th>weather_type</th>\n",
       "      <th>weather_description</th>\n",
       "      <th>culster_labels</th>\n",
       "    </tr>\n",
       "  </thead>\n",
       "  <tbody>\n",
       "    <tr>\n",
       "      <th>0</th>\n",
       "      <td>18-05-2017 00:00</td>\n",
       "      <td>73.0</td>\n",
       "      <td>63.0</td>\n",
       "      <td>1.0</td>\n",
       "      <td>27.0</td>\n",
       "      <td>4.0</td>\n",
       "      <td>4.0</td>\n",
       "      <td>285.15</td>\n",
       "      <td>0.0</td>\n",
       "      <td>0.0</td>\n",
       "      <td>90.0</td>\n",
       "      <td>Rain</td>\n",
       "      <td>moderate rain</td>\n",
       "      <td>1</td>\n",
       "    </tr>\n",
       "    <tr>\n",
       "      <th>1</th>\n",
       "      <td>18-05-2017 00:00</td>\n",
       "      <td>251.0</td>\n",
       "      <td>63.0</td>\n",
       "      <td>1.0</td>\n",
       "      <td>27.0</td>\n",
       "      <td>4.0</td>\n",
       "      <td>4.0</td>\n",
       "      <td>285.15</td>\n",
       "      <td>0.0</td>\n",
       "      <td>0.0</td>\n",
       "      <td>90.0</td>\n",
       "      <td>Mist</td>\n",
       "      <td>mist</td>\n",
       "      <td>2</td>\n",
       "    </tr>\n",
       "    <tr>\n",
       "      <th>2</th>\n",
       "      <td>18-05-2017 00:00</td>\n",
       "      <td>75.0</td>\n",
       "      <td>56.0</td>\n",
       "      <td>1.0</td>\n",
       "      <td>0.0</td>\n",
       "      <td>1.0</td>\n",
       "      <td>1.0</td>\n",
       "      <td>285.15</td>\n",
       "      <td>0.0</td>\n",
       "      <td>0.0</td>\n",
       "      <td>90.0</td>\n",
       "      <td>Drizzle</td>\n",
       "      <td>light intensity drizzle</td>\n",
       "      <td>1</td>\n",
       "    </tr>\n",
       "    <tr>\n",
       "      <th>3</th>\n",
       "      <td>18-05-2017 01:00</td>\n",
       "      <td>98.0</td>\n",
       "      <td>56.0</td>\n",
       "      <td>1.0</td>\n",
       "      <td>351.0</td>\n",
       "      <td>2.0</td>\n",
       "      <td>2.0</td>\n",
       "      <td>284.79</td>\n",
       "      <td>0.0</td>\n",
       "      <td>0.0</td>\n",
       "      <td>90.0</td>\n",
       "      <td>Rain</td>\n",
       "      <td>heavy intensity rain</td>\n",
       "      <td>1</td>\n",
       "    </tr>\n",
       "    <tr>\n",
       "      <th>4</th>\n",
       "      <td>18-05-2017 01:00</td>\n",
       "      <td>283.0</td>\n",
       "      <td>56.0</td>\n",
       "      <td>1.0</td>\n",
       "      <td>351.0</td>\n",
       "      <td>1.0</td>\n",
       "      <td>1.0</td>\n",
       "      <td>284.79</td>\n",
       "      <td>0.0</td>\n",
       "      <td>0.0</td>\n",
       "      <td>90.0</td>\n",
       "      <td>Mist</td>\n",
       "      <td>mist</td>\n",
       "      <td>2</td>\n",
       "    </tr>\n",
       "    <tr>\n",
       "      <th>...</th>\n",
       "      <td>...</td>\n",
       "      <td>...</td>\n",
       "      <td>...</td>\n",
       "      <td>...</td>\n",
       "      <td>...</td>\n",
       "      <td>...</td>\n",
       "      <td>...</td>\n",
       "      <td>...</td>\n",
       "      <td>...</td>\n",
       "      <td>...</td>\n",
       "      <td>...</td>\n",
       "      <td>...</td>\n",
       "      <td>...</td>\n",
       "      <td>...</td>\n",
       "    </tr>\n",
       "    <tr>\n",
       "      <th>194</th>\n",
       "      <td>23-05-2017 01:00</td>\n",
       "      <td>202.0</td>\n",
       "      <td>61.0</td>\n",
       "      <td>2.0</td>\n",
       "      <td>163.0</td>\n",
       "      <td>2.0</td>\n",
       "      <td>2.0</td>\n",
       "      <td>283.60</td>\n",
       "      <td>0.0</td>\n",
       "      <td>0.0</td>\n",
       "      <td>1.0</td>\n",
       "      <td>Rain</td>\n",
       "      <td>light rain</td>\n",
       "      <td>2</td>\n",
       "    </tr>\n",
       "    <tr>\n",
       "      <th>195</th>\n",
       "      <td>23-05-2017 02:00</td>\n",
       "      <td>65.0</td>\n",
       "      <td>61.0</td>\n",
       "      <td>2.0</td>\n",
       "      <td>163.0</td>\n",
       "      <td>7.0</td>\n",
       "      <td>7.0</td>\n",
       "      <td>283.16</td>\n",
       "      <td>0.0</td>\n",
       "      <td>0.0</td>\n",
       "      <td>40.0</td>\n",
       "      <td>Rain</td>\n",
       "      <td>moderate rain</td>\n",
       "      <td>1</td>\n",
       "    </tr>\n",
       "    <tr>\n",
       "      <th>196</th>\n",
       "      <td>23-05-2017 02:00</td>\n",
       "      <td>293.0</td>\n",
       "      <td>60.0</td>\n",
       "      <td>1.0</td>\n",
       "      <td>164.0</td>\n",
       "      <td>1.0</td>\n",
       "      <td>1.0</td>\n",
       "      <td>283.16</td>\n",
       "      <td>0.0</td>\n",
       "      <td>0.0</td>\n",
       "      <td>40.0</td>\n",
       "      <td>Drizzle</td>\n",
       "      <td>drizzle</td>\n",
       "      <td>2</td>\n",
       "    </tr>\n",
       "    <tr>\n",
       "      <th>197</th>\n",
       "      <td>23-05-2017 03:00</td>\n",
       "      <td>160.0</td>\n",
       "      <td>60.0</td>\n",
       "      <td>1.0</td>\n",
       "      <td>164.0</td>\n",
       "      <td>6.0</td>\n",
       "      <td>6.0</td>\n",
       "      <td>282.78</td>\n",
       "      <td>0.0</td>\n",
       "      <td>0.0</td>\n",
       "      <td>40.0</td>\n",
       "      <td>Rain</td>\n",
       "      <td>moderate rain</td>\n",
       "      <td>0</td>\n",
       "    </tr>\n",
       "    <tr>\n",
       "      <th>198</th>\n",
       "      <td>23-05-2017 04:00</td>\n",
       "      <td>198.0</td>\n",
       "      <td>60.0</td>\n",
       "      <td>1.0</td>\n",
       "      <td>164.0</td>\n",
       "      <td>4.0</td>\n",
       "      <td>4.0</td>\n",
       "      <td>282.91</td>\n",
       "      <td>0.0</td>\n",
       "      <td>0.0</td>\n",
       "      <td>75.0</td>\n",
       "      <td>Drizzle</td>\n",
       "      <td>light intensity drizzle</td>\n",
       "      <td>0</td>\n",
       "    </tr>\n",
       "  </tbody>\n",
       "</table>\n",
       "<p>199 rows × 14 columns</p>\n",
       "</div>"
      ],
      "text/plain": [
       "            date_time  air_pollution_index  humidity  wind_speed  \\\n",
       "0    18-05-2017 00:00                 73.0      63.0         1.0   \n",
       "1    18-05-2017 00:00                251.0      63.0         1.0   \n",
       "2    18-05-2017 00:00                 75.0      56.0         1.0   \n",
       "3    18-05-2017 01:00                 98.0      56.0         1.0   \n",
       "4    18-05-2017 01:00                283.0      56.0         1.0   \n",
       "..                ...                  ...       ...         ...   \n",
       "194  23-05-2017 01:00                202.0      61.0         2.0   \n",
       "195  23-05-2017 02:00                 65.0      61.0         2.0   \n",
       "196  23-05-2017 02:00                293.0      60.0         1.0   \n",
       "197  23-05-2017 03:00                160.0      60.0         1.0   \n",
       "198  23-05-2017 04:00                198.0      60.0         1.0   \n",
       "\n",
       "     wind_direction  visibility_in_miles  dew_point  temperature  rain_p_h  \\\n",
       "0              27.0                  4.0        4.0       285.15       0.0   \n",
       "1              27.0                  4.0        4.0       285.15       0.0   \n",
       "2               0.0                  1.0        1.0       285.15       0.0   \n",
       "3             351.0                  2.0        2.0       284.79       0.0   \n",
       "4             351.0                  1.0        1.0       284.79       0.0   \n",
       "..              ...                  ...        ...          ...       ...   \n",
       "194           163.0                  2.0        2.0       283.60       0.0   \n",
       "195           163.0                  7.0        7.0       283.16       0.0   \n",
       "196           164.0                  1.0        1.0       283.16       0.0   \n",
       "197           164.0                  6.0        6.0       282.78       0.0   \n",
       "198           164.0                  4.0        4.0       282.91       0.0   \n",
       "\n",
       "     snow_p_h  clouds_all weather_type      weather_description  \\\n",
       "0         0.0        90.0         Rain            moderate rain   \n",
       "1         0.0        90.0         Mist                     mist   \n",
       "2         0.0        90.0      Drizzle  light intensity drizzle   \n",
       "3         0.0        90.0         Rain     heavy intensity rain   \n",
       "4         0.0        90.0         Mist                     mist   \n",
       "..        ...         ...          ...                      ...   \n",
       "194       0.0         1.0         Rain               light rain   \n",
       "195       0.0        40.0         Rain            moderate rain   \n",
       "196       0.0        40.0      Drizzle                  drizzle   \n",
       "197       0.0        40.0         Rain            moderate rain   \n",
       "198       0.0        75.0      Drizzle  light intensity drizzle   \n",
       "\n",
       "     culster_labels  \n",
       "0                 1  \n",
       "1                 2  \n",
       "2                 1  \n",
       "3                 1  \n",
       "4                 2  \n",
       "..              ...  \n",
       "194               2  \n",
       "195               1  \n",
       "196               2  \n",
       "197               0  \n",
       "198               0  \n",
       "\n",
       "[199 rows x 14 columns]"
      ]
     },
     "execution_count": 44,
     "metadata": {},
     "output_type": "execute_result"
    }
   ],
   "source": [
    "data[\"culster_labels\"]=cluster_labels\n",
    "data"
   ]
  },
  {
   "cell_type": "code",
   "execution_count": null,
   "metadata": {},
   "outputs": [
    {
     "data": {
      "text/plain": [
       "array([[ 72.98571429, 147.15714286],\n",
       "       [ 76.66666667,  52.83333333],\n",
       "       [ 77.84057971, 249.28985507]])"
      ]
     },
     "execution_count": 45,
     "metadata": {},
     "output_type": "execute_result"
    }
   ],
   "source": [
    "km.cluster_centers_"
   ]
  },
  {
   "cell_type": "code",
   "execution_count": null,
   "metadata": {},
   "outputs": [
    {
     "data": {
      "text/plain": [
       "array([1, 2, 1, 1, 2, 0, 1, 0, 0, 1, 2, 2, 0, 1, 2, 1, 2, 1, 1, 0, 2, 2,\n",
       "       1, 0, 0, 1, 2, 0, 0, 0, 1, 0, 0, 0, 2, 2, 0, 1, 1, 0, 0, 2, 2, 1,\n",
       "       2, 1, 2, 0, 1, 2, 0, 0, 0, 2, 1, 1, 0, 2, 1, 2, 1, 2, 2, 1, 2, 0,\n",
       "       2, 0, 1, 0, 1, 0, 1, 1, 0, 2, 0, 0, 0, 0, 2, 2, 0, 0, 2, 2, 1, 2,\n",
       "       0, 1, 2, 2, 2, 2, 2, 2, 2, 0, 0, 2, 2, 2, 1, 2, 2, 0, 0, 1, 0, 1,\n",
       "       1, 0, 1, 1, 2, 1, 2, 1, 1, 2, 0, 0, 2, 1, 0, 1, 2, 2, 0, 0, 0, 0,\n",
       "       0, 2, 0, 0, 0, 1, 2, 0, 1, 2, 2, 0, 0, 0, 2, 0, 2, 0, 1, 1, 1, 1,\n",
       "       2, 1, 2, 1, 1, 0, 2, 2, 0, 0, 1, 1, 2, 1, 1, 1, 2, 1, 0, 0, 2, 0,\n",
       "       2, 1, 2, 0, 2, 1, 2, 0, 1, 0, 2, 1, 1, 2, 2, 0, 0, 0, 2, 1, 2, 0,\n",
       "       0])"
      ]
     },
     "execution_count": 46,
     "metadata": {},
     "output_type": "execute_result"
    }
   ],
   "source": [
    "km.labels_"
   ]
  },
  {
   "cell_type": "code",
   "execution_count": null,
   "metadata": {},
   "outputs": [
    {
     "data": {
      "text/plain": [
       "8"
      ]
     },
     "execution_count": 47,
     "metadata": {},
     "output_type": "execute_result"
    }
   ],
   "source": [
    "km.n_iter_"
   ]
  },
  {
   "cell_type": "code",
   "execution_count": null,
   "metadata": {},
   "outputs": [],
   "source": [
    "group0=data[data.culster_labels==0]\n",
    "group1=data[data.culster_labels==1]\n",
    "group2=data[data.culster_labels==2]"
   ]
  },
  {
   "cell_type": "code",
   "execution_count": null,
   "metadata": {},
   "outputs": [
    {
     "data": {
      "image/png": "[encoded data removed]",
      "text/plain": [
       "<Figure size 432x288 with 1 Axes>"
      ]
     },
     "metadata": {
      "needs_background": "light"
     },
     "output_type": "display_data"
    }
   ],
   "source": [
    "plt.scatter(group0.air_pollution_index,group0.humidity,label=\"cluster = 0\")\n",
    "plt.scatter(group1.air_pollution_index,group1.humidity,label=\"cluster = 1\")\n",
    "plt.scatter(group2.air_pollution_index,group2.humidity,label=\"cluster = 2\")\n",
    "plt.scatter(km.cluster_centers_[:,0],km.cluster_centers_[:,1],label=\"Centeriods \",marker=\"*\",color=\"purple\")\n",
    "plt.legend()\n",
    "plt.show()"
   ]
  }
 ],
 "metadata": {
  "interpreter": {
   "hash": "3f800561dde6209f0c647b1ec24b295364b37801e2a63d392a491285ef4d5a88"
  },
  "kernelspec": {
   "display_name": "Python 3.8.8 64-bit ('base': conda)",
   "name": "python3"
  },
  "language_info": {
   "codemirror_mode": {
    "name": "ipython",
    "version": 3
   },
   "file_extension": ".py",
   "mimetype": "text/x-python",
   "name": "python",
   "nbconvert_exporter": "python",
   "pygments_lexer": "ipython3",
   "version": "3.8.8"
  }
 },
 "nbformat": 4,
 "nbformat_minor": 2
}
